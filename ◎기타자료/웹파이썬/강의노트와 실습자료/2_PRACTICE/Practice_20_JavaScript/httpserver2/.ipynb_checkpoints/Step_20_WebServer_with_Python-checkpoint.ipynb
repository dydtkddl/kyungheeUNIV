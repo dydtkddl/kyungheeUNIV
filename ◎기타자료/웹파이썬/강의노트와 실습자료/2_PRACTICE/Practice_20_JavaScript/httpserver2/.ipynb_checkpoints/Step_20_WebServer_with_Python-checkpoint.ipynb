{
 "cells": [
  {
   "cell_type": "markdown",
   "metadata": {},
   "source": [
    "# 수업 내용 이해"
   ]
  },
  {
   "cell_type": "markdown",
   "metadata": {},
   "source": [
    "본 절에서는 "
   ]
  },
  {
   "cell_type": "markdown",
   "metadata": {},
   "source": [
    "다음은 Python을 이용하여 작성하는 첫번째 웹서버 프로그램입니다.<br>\n",
    "이론 수업을 3차에 걸쳐서 한 이유이지만, 소스코드를 보면 이론 수업에서 들었던 단어들이 많이 나타나는 것을 알 수 있습니다.<br>\n",
    "\n",
    "본 수업에서의 웹서버 프로그램들은 이렇게 실행합니다.<br>\n",
    "\\[단계1\\] 소스코드를 실행함 (이 경우는 webserver1.py)<br>\n",
    "\\[단계2\\] 웹브라우저에서 새로운 윈도우를 오픈함 (새로운 Tab이 아닌 Window를 열어야지 에러가 적을 겁니다)<br>\n",
    "\\[단계3\\] 새로 오픈한 윈도우의 주소창에 ``http://localhost:9000/hello``를 타이핑한 후, 엔터키로 실행시킴<br>\n",
    "\n",
    "만약, 에러가 나면서 ``[Errno 48] Address already in use``라고 나타나면, 웹서버가 여러번 실행되면서 뭔가 제대로 동작하지 않을수 있습니다.<br>\n",
    "이런 경우는 단추 중 까만 단추(Stop)을 눌러서 중지하시고, Kernel메뉴의 \"Restart and Clear Output\"을 실행하고, 다시 프로그램을 실행(Run)하면 될겁니다.<br>"
   ]
  },
  {
   "cell_type": "code",
   "execution_count": null,
   "metadata": {},
   "outputs": [],
   "source": [
    "# Name: webserver1.py\n",
    "\n",
    "import socket\n",
    "\n",
    "HOST, PORT = '', 9000\n",
    "\n",
    "listen_socket = socket.socket(socket.AF_INET, socket.SOCK_STREAM)\n",
    "listen_socket.setsockopt(socket.SOL_SOCKET, socket.SO_REUSEADDR, 1)\n",
    "listen_socket.bind((HOST, PORT))\n",
    "listen_socket.listen(1)\n",
    "print ('Serving HTTP on port', PORT, '...')\n",
    "while True:\n",
    "    client_connection, client_address = listen_socket.accept()\n",
    "    request = str(client_connection.recv(1024),'utf-8')\n",
    "    print (request)\n",
    "\n",
    "    http_response = \"\"\"\\\n",
    "HTTP/1.1 200 OK\n",
    "\n",
    "Hello world!\n",
    "\"\"\"\n",
    "    client_connection.sendall(bytes(http_response,'utf-8'))\n",
    "    client_connection.close()"
   ]
  },
  {
   "cell_type": "code",
   "execution_count": null,
   "metadata": {},
   "outputs": [],
   "source": [
    "# Name: httpserver1.py\n",
    "\n",
    "from http.server import SimpleHTTPRequestHandler, HTTPServer\n",
    "\n",
    "port = 8091\n",
    "server_address = ('', port)\n",
    "httpd = HTTPServer(server_address, SimpleHTTPRequestHandler)\n",
    "print(\"Starting simple_httpd on port: \" + str(httpd.server_port))\n",
    "httpd.serve_forever()"
   ]
  },
  {
   "cell_type": "code",
   "execution_count": null,
   "metadata": {},
   "outputs": [],
   "source": [
    "# Name: httpserver2.py\n",
    "\n",
    "from http.server import HTTPServer, SimpleHTTPRequestHandler\n",
    "\n",
    "class testHTTPServer_RequestHandler(SimpleHTTPRequestHandler):\n",
    "    def do_GET(self):\n",
    "        super().do_GET()\n",
    "        print(\"do_get\")\n",
    "        \n",
    "port = 8096\n",
    "httpd = HTTPServer(('', port), testHTTPServer_RequestHandler)\n",
    "print(\"Starting simple_httpd on port: \" + str(httpd.server_port))\n",
    "httpd.serve_forever()"
   ]
  },
  {
   "cell_type": "code",
   "execution_count": null,
   "metadata": {},
   "outputs": [],
   "source": [
    "# Name: httpserver3.py\n",
    "\n",
    "from http.server import HTTPServer, SimpleHTTPRequestHandler\n",
    "from urllib.parse import parse_qs, urlparse\n",
    "\n",
    "class testHTTPServer_RequestHandler(SimpleHTTPRequestHandler):\n",
    "\n",
    "    def do_GET(self):\n",
    "        url = self.path\n",
    "        form = parse_qs(urlparse(url).query)\n",
    "        if (form != {}):\n",
    "            self.process_form(form)\n",
    "            \n",
    "        super().do_GET()\n",
    "        print(\"do_get\")\n",
    "\n",
    "    def process_form(self,form):\n",
    "        if 'food' in form:\n",
    "            if form['food'][0] == 'Pizza':\n",
    "                print(form['firstname'][0] + \", call Dominos tonight!\")\n",
    "            elif form['food'][0] == 'Tacos':\n",
    "                print(form['firstname'][0] + \", go to TacoBell tonight!\")\n",
    "            elif form['food'][0] == 'Salad':\n",
    "                print(form['firstname'][0] + \", have a Caesar Salad tonight!\")\n",
    "\n",
    "port = 9095 \n",
    "httpd = HTTPServer(('', port), testHTTPServer_RequestHandler)\n",
    "print(\"Starting simple_httpd on port: \" + str(httpd.server_port))\n",
    "httpd.serve_forever()"
   ]
  },
  {
   "cell_type": "markdown",
   "metadata": {},
   "source": [
    "# 실습"
   ]
  }
 ],
 "metadata": {
  "kernelspec": {
   "display_name": "Python 3",
   "language": "python",
   "name": "python3"
  },
  "language_info": {
   "codemirror_mode": {
    "name": "ipython",
    "version": 3
   },
   "file_extension": ".py",
   "mimetype": "text/x-python",
   "name": "python",
   "nbconvert_exporter": "python",
   "pygments_lexer": "ipython3",
   "version": "3.6.5"
  }
 },
 "nbformat": 4,
 "nbformat_minor": 2
}
