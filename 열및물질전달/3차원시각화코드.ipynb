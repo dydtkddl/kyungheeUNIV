{
 "cells": [
  {
   "attachments": {},
   "cell_type": "markdown",
   "metadata": {},
   "source": [
    "## 3차원 시각화 코드 ( 넘파이 )"
   ]
  },
  {
   "cell_type": "code",
   "execution_count": null,
   "metadata": {},
   "outputs": [],
   "source": [
    "import sympy as sy\n",
    "import numpy as np\n",
    "import matplotlib.pyplot as plt\n",
    "from mpl_toolkits.mplot3d import Axes3D\n",
    "\n",
    "n = sy.Symbol(\"n\")\n",
    "x = sy.Symbol(\"x\")\n",
    "t = sy.Symbol(\"t\")\n",
    "a = 1000\n",
    "Ti = 30\n",
    "Ts = 50\n",
    "\n",
    "integrate_expr = sy.integrate(sy.exp(-(n**2)))\n",
    "result = integrate_expr.subs(n, n) - integrate_expr.subs(n, 0)\n",
    "new_result = result.subs(n, x / (2 * (a * t)**(sy.Rational(1, 2))))\n",
    "new_result = (Ti - Ts) * (2 / (3.14)**sy.Rational(1, 2)) * new_result + Ts\n",
    "\n",
    "x_ = np.linspace(0, 500, 3000)\n",
    "time = np.linspace(0, 500, 300)\n",
    "\n",
    "x_, time = np.meshgrid(x_, time)\n",
    "\n",
    "xx = x_.flatten()\n",
    "tt = time.flatten()\n",
    "\n",
    "# Numpy 배열로 변환\n",
    "# result_func = sy.lambdify((x, t), new_result, modules=['numpy'])\n",
    "# result_arr = result_func(xx, tt)\n",
    "result_func = sy.lambdify((x, t), new_result, modules=['numpy'])\n",
    "result_arr = np.vectorize(result_func)(xx, tt)\n",
    "real_mat = np.real(result_arr).reshape(x_.shape)\n",
    "imag_mat = np.imag(result_arr).reshape(x_.shape)\n",
    "\n",
    "fig = plt.figure()\n",
    "ax = fig.add_subplot(111, projection='3d')\n",
    "surf = ax.plot_surface(x_, time, real_mat, cmap='viridis')\n",
    "plt.show()"
   ]
  },
  {
   "attachments": {},
   "cell_type": "markdown",
   "metadata": {},
   "source": [
    "## 3차원 시각화 코드 ( 2중 for 문 (개느림 ))"
   ]
  },
  {
   "cell_type": "code",
   "execution_count": null,
   "metadata": {},
   "outputs": [],
   "source": [
    "import sympy as sy\n",
    "import numpy as np\n",
    "import matplotlib.pyplot as plt\n",
    "from mpl_toolkits.mplot3d import Axes3D\n",
    "\n",
    "n = sy.Symbol(\"n\")\n",
    "x = sy.Symbol(\"x\")\n",
    "t = sy.Symbol(\"t\")\n",
    "a = 1000\n",
    "Ti = 30\n",
    "Ts = 50\n",
    "integrate_expr = sy.integrate(sy.exp(-(n**2)))\n",
    "result = integrate_expr.subs(n,n)-integrate_expr.subs(n,0)\n",
    "new_result = result.subs(n,x/(2*(a*t)**(sy.Rational(1,2))))\n",
    "new_result = (Ti-Ts)*(2/(3.14)**sy.Rational(1,2))*new_result+Ts\n",
    "x_ = np.linspace(0,5000,100)\n",
    "time = np.linspace(0,5000,100)\n",
    "\n",
    "x_, time = np.meshgrid(x_, time)\n",
    "real_mat = np.zeros_like(x_, dtype=float)\n",
    "imag_mat = np.zeros_like(x_, dtype=float)\n",
    "for i in range(100):\n",
    "    for j in range(100):\n",
    "        xx = x_[i][j]\n",
    "        tt = time[i][j]\n",
    "        result = new_result.subs({x : xx, t : tt})\n",
    "        real_mat[i][j] = sy.re(result)\n",
    "        imag_mat[i][j] = sy.im(result)\n",
    "\n",
    "fig = plt.figure()\n",
    "ax = fig.add_subplot(111, projection='3d')\n",
    "surf = ax.plot_surface(x_, time, real_mat, cmap='viridis')\n",
    "plt.show()"
   ]
  }
 ],
 "metadata": {
  "language_info": {
   "name": "python"
  },
  "orig_nbformat": 4
 },
 "nbformat": 4,
 "nbformat_minor": 2
}
